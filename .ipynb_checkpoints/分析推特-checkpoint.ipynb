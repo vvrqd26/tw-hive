{
 "cells": [
  {
   "cell_type": "code",
   "execution_count": 33,
   "id": "d9dbab85",
   "metadata": {},
   "outputs": [],
   "source": [
    "import pandas as pd\n",
    "import os\n",
    "import glob\n",
    "import re\n",
    "from nats_client import open_msg_sender\n",
    "import json"
   ]
  },
  {
   "cell_type": "code",
   "execution_count": 2,
   "id": "28a38436",
   "metadata": {},
   "outputs": [],
   "source": [
    "csv_files = glob.glob('./datas/tweets/*.csv')"
   ]
  },
  {
   "cell_type": "code",
   "execution_count": 3,
   "id": "3b3dbaff",
   "metadata": {},
   "outputs": [],
   "source": [
    "dfs = [pd.read_csv(fl) for fl in csv_files]"
   ]
  },
  {
   "cell_type": "code",
   "execution_count": 4,
   "id": "e3d03a4d",
   "metadata": {},
   "outputs": [],
   "source": [
    "all_dfs = pd.concat(dfs)\n",
    "all_dfs = all_dfs.drop_duplicates('id')"
   ]
  },
  {
   "cell_type": "code",
   "execution_count": 5,
   "id": "a7b67590",
   "metadata": {},
   "outputs": [],
   "source": [
    "all_dfs2 = all_dfs[['id','text','author','media','url','created_on']]"
   ]
  },
  {
   "cell_type": "code",
   "execution_count": 6,
   "id": "827eabbf",
   "metadata": {},
   "outputs": [],
   "source": [
    "all_dfs2=  all_dfs2.dropna()"
   ]
  },
  {
   "cell_type": "code",
   "execution_count": 7,
   "id": "9d98488d",
   "metadata": {},
   "outputs": [],
   "source": [
    "# 过期时间\n",
    "all_dfs2['created_on'] = pd.to_datetime(all_dfs2['created_on'])\n",
    "threshold_date = pd.to_datetime('2024-04-14').tz_localize('UTC')\n",
    "all_dfs2 = all_dfs2[all_dfs2['created_on']>threshold_date]"
   ]
  },
  {
   "cell_type": "code",
   "execution_count": 8,
   "id": "547702f1",
   "metadata": {},
   "outputs": [],
   "source": [
    "all_dfs3 = all_dfs2.dropna()\n"
   ]
  },
  {
   "cell_type": "code",
   "execution_count": null,
   "id": "e4aabe32",
   "metadata": {},
   "outputs": [],
   "source": []
  },
  {
   "cell_type": "code",
   "execution_count": 9,
   "id": "823d1c9e",
   "metadata": {},
   "outputs": [
    {
     "data": {
      "text/plain": [
       "7612"
      ]
     },
     "execution_count": 9,
     "metadata": {},
     "output_type": "execute_result"
    }
   ],
   "source": [
    "len(all_dfs3)"
   ]
  },
  {
   "cell_type": "code",
   "execution_count": 10,
   "id": "f8578974",
   "metadata": {},
   "outputs": [],
   "source": [
    "ethereum_address_pattern = r'0x([A-Fa-f0-9]{40})'\n",
    "tags = ['whitelist', 'airdrop','whitelists','wl']\n",
    "# 匹配标签\n",
    "tags_pattern = r'\\b(' + '|'.join(tags) + r')\\b'"
   ]
  },
  {
   "cell_type": "code",
   "execution_count": 11,
   "id": "f02cc849",
   "metadata": {},
   "outputs": [],
   "source": [
    "all_dfs3['ca'] = all_dfs3['text'].str.extract(ethereum_address_pattern, flags=re.MULTILINE)"
   ]
  },
  {
   "cell_type": "code",
   "execution_count": 12,
   "id": "23bb8f1f",
   "metadata": {},
   "outputs": [],
   "source": [
    "all_dfs3['other'] = all_dfs3['text'].str.extract(tags_pattern,flags=re.IGNORECASE)"
   ]
  },
  {
   "cell_type": "code",
   "execution_count": 13,
   "id": "c39f65d4",
   "metadata": {},
   "outputs": [],
   "source": [
    "all_dfs3 = all_dfs3[~all_dfs3['ca'].isna() | ~all_dfs3['other'].isna()]"
   ]
  },
  {
   "cell_type": "code",
   "execution_count": 14,
   "id": "df3c5c42",
   "metadata": {},
   "outputs": [],
   "source": [
    "all_dfs3= all_dfs3.sort_values(['created_on','ca'],ascending=False)"
   ]
  },
  {
   "cell_type": "code",
   "execution_count": 15,
   "id": "5c768220",
   "metadata": {},
   "outputs": [
    {
     "data": {
      "text/html": [
       "<div>\n",
       "<style scoped>\n",
       "    .dataframe tbody tr th:only-of-type {\n",
       "        vertical-align: middle;\n",
       "    }\n",
       "\n",
       "    .dataframe tbody tr th {\n",
       "        vertical-align: top;\n",
       "    }\n",
       "\n",
       "    .dataframe thead th {\n",
       "        text-align: right;\n",
       "    }\n",
       "</style>\n",
       "<table border=\"1\" class=\"dataframe\">\n",
       "  <thead>\n",
       "    <tr style=\"text-align: right;\">\n",
       "      <th></th>\n",
       "      <th>index</th>\n",
       "      <th>id</th>\n",
       "      <th>text</th>\n",
       "      <th>author</th>\n",
       "      <th>media</th>\n",
       "      <th>url</th>\n",
       "      <th>created_on</th>\n",
       "      <th>ca</th>\n",
       "      <th>other</th>\n",
       "    </tr>\n",
       "  </thead>\n",
       "  <tbody>\n",
       "    <tr>\n",
       "      <th>0</th>\n",
       "      <td>0</td>\n",
       "      <td>1779814638403952896.0</td>\n",
       "      <td>🌟@Slerfsol 宣布與 @okx @okxweb3 合作，即將推出的 $SLERF N...</td>\n",
       "      <td>User(id=1454671970956500993, username=LeoStudi...</td>\n",
       "      <td>[]</td>\n",
       "      <td>https://twitter.com/LeoStudio_LS/status/177981...</td>\n",
       "      <td>2024-04-15 10:10:51+00:00</td>\n",
       "      <td>NaN</td>\n",
       "      <td>WL</td>\n",
       "    </tr>\n",
       "    <tr>\n",
       "      <th>1</th>\n",
       "      <td>18</td>\n",
       "      <td>1779812398511395108</td>\n",
       "      <td>🎁福利：抽5个@STBRC20  FREEMINT 白名单+后期 #Runes 空投（24h...</td>\n",
       "      <td>User(id=825183199198212096, username=BTW0205, ...</td>\n",
       "      <td>[Media(id=1779812326692327424, type=photo)]</td>\n",
       "      <td>https://twitter.com/BTW0205/status/17798123985...</td>\n",
       "      <td>2024-04-15 10:01:57+00:00</td>\n",
       "      <td>NaN</td>\n",
       "      <td>WL</td>\n",
       "    </tr>\n",
       "    <tr>\n",
       "      <th>2</th>\n",
       "      <td>19</td>\n",
       "      <td>1779810972015771904.0</td>\n",
       "      <td>Three lucky winners have been chosen to airdro...</td>\n",
       "      <td>User(id=1224360235709550594, username=Leoninwe...</td>\n",
       "      <td>[]</td>\n",
       "      <td>https://twitter.com/Leoninweb3/status/17798109...</td>\n",
       "      <td>2024-04-15 09:56:17+00:00</td>\n",
       "      <td>NaN</td>\n",
       "      <td>airdrop</td>\n",
       "    </tr>\n",
       "    <tr>\n",
       "      <th>3</th>\n",
       "      <td>1</td>\n",
       "      <td>1779805701008916480.0</td>\n",
       "      <td>🦥 @slerfsol will be launching their new NFT on...</td>\n",
       "      <td>User(id=1454671970956500993, username=LeoStudi...</td>\n",
       "      <td>[Media(id=1779100972326801408, type=photo)]</td>\n",
       "      <td>https://twitter.com/LeoStudio_LS/status/177980...</td>\n",
       "      <td>2024-04-15 09:35:20+00:00</td>\n",
       "      <td>NaN</td>\n",
       "      <td>WL</td>\n",
       "    </tr>\n",
       "    <tr>\n",
       "      <th>4</th>\n",
       "      <td>0</td>\n",
       "      <td>1779802593377550683</td>\n",
       "      <td>Just added this @PremierNinjas to my NFT colle...</td>\n",
       "      <td>User(id=1534565964691427334, username=gwinthel...</td>\n",
       "      <td>[Media(id=1779744294120923136, type=photo)]</td>\n",
       "      <td>https://twitter.com/gwinthel/status/1779802593...</td>\n",
       "      <td>2024-04-15 09:23:00+00:00</td>\n",
       "      <td>NaN</td>\n",
       "      <td>airdrop</td>\n",
       "    </tr>\n",
       "    <tr>\n",
       "      <th>...</th>\n",
       "      <td>...</td>\n",
       "      <td>...</td>\n",
       "      <td>...</td>\n",
       "      <td>...</td>\n",
       "      <td>...</td>\n",
       "      <td>...</td>\n",
       "      <td>...</td>\n",
       "      <td>...</td>\n",
       "      <td>...</td>\n",
       "    </tr>\n",
       "    <tr>\n",
       "      <th>220</th>\n",
       "      <td>9</td>\n",
       "      <td>1779322642086182912.0</td>\n",
       "      <td>📢 Announcement\\n@ton_wifhat 🤝 @TonMonkeys\\n\\nW...</td>\n",
       "      <td>User(id=1392060763464822787, username=genji_cr...</td>\n",
       "      <td>[Media(id=1779195044190162944, type=photo)]</td>\n",
       "      <td>https://twitter.com/genji_cryptoman/status/177...</td>\n",
       "      <td>2024-04-14 01:35:50+00:00</td>\n",
       "      <td>NaN</td>\n",
       "      <td>whitelist</td>\n",
       "    </tr>\n",
       "    <tr>\n",
       "      <th>221</th>\n",
       "      <td>4</td>\n",
       "      <td>1779322142649454848.0</td>\n",
       "      <td>In the future, any project can airdrop assets ...</td>\n",
       "      <td>User(id=1730086212537655296, username=orcmarke...</td>\n",
       "      <td>[]</td>\n",
       "      <td>https://twitter.com/orcmarket/status/177932214...</td>\n",
       "      <td>2024-04-14 01:33:51+00:00</td>\n",
       "      <td>NaN</td>\n",
       "      <td>airdrop</td>\n",
       "    </tr>\n",
       "    <tr>\n",
       "      <th>222</th>\n",
       "      <td>2</td>\n",
       "      <td>1779317830334152945</td>\n",
       "      <td>Thanks to the team at Original Creative Agency...</td>\n",
       "      <td>User(id=1761173240918016000, username=broccoli...</td>\n",
       "      <td>[Media(id=1779304890453606400, type=photo)]</td>\n",
       "      <td>https://twitter.com/broccoli_pd/status/1779317...</td>\n",
       "      <td>2024-04-14 01:16:43+00:00</td>\n",
       "      <td>NaN</td>\n",
       "      <td>airdrop</td>\n",
       "    </tr>\n",
       "    <tr>\n",
       "      <th>223</th>\n",
       "      <td>12</td>\n",
       "      <td>1779306461161807875</td>\n",
       "      <td>🌟 #BitMart X #ONI #Airdrop 🌟\\n\\n1⃣Follow @BitM...</td>\n",
       "      <td>User(id=937166242208763904, username=BitMartEx...</td>\n",
       "      <td>[Media(id=1776364358987116544, type=photo)]</td>\n",
       "      <td>https://twitter.com/BitMartExchange/status/177...</td>\n",
       "      <td>2024-04-14 00:31:32+00:00</td>\n",
       "      <td>NaN</td>\n",
       "      <td>Airdrop</td>\n",
       "    </tr>\n",
       "    <tr>\n",
       "      <th>224</th>\n",
       "      <td>0</td>\n",
       "      <td>1779305355430044160.0</td>\n",
       "      <td>Thanks to the team at Original Creative Agency...</td>\n",
       "      <td>User(id=1645544890883776512, username=Gogonaut...</td>\n",
       "      <td>[Media(id=1779304890453606400, type=photo)]</td>\n",
       "      <td>https://twitter.com/Gogonauts/status/177930535...</td>\n",
       "      <td>2024-04-14 00:27:09+00:00</td>\n",
       "      <td>NaN</td>\n",
       "      <td>airdrop</td>\n",
       "    </tr>\n",
       "  </tbody>\n",
       "</table>\n",
       "<p>225 rows × 9 columns</p>\n",
       "</div>"
      ],
      "text/plain": [
       "     index                     id  \\\n",
       "0        0  1779814638403952896.0   \n",
       "1       18    1779812398511395108   \n",
       "2       19  1779810972015771904.0   \n",
       "3        1  1779805701008916480.0   \n",
       "4        0    1779802593377550683   \n",
       "..     ...                    ...   \n",
       "220      9  1779322642086182912.0   \n",
       "221      4  1779322142649454848.0   \n",
       "222      2    1779317830334152945   \n",
       "223     12    1779306461161807875   \n",
       "224      0  1779305355430044160.0   \n",
       "\n",
       "                                                  text  \\\n",
       "0    🌟@Slerfsol 宣布與 @okx @okxweb3 合作，即將推出的 $SLERF N...   \n",
       "1    🎁福利：抽5个@STBRC20  FREEMINT 白名单+后期 #Runes 空投（24h...   \n",
       "2    Three lucky winners have been chosen to airdro...   \n",
       "3    🦥 @slerfsol will be launching their new NFT on...   \n",
       "4    Just added this @PremierNinjas to my NFT colle...   \n",
       "..                                                 ...   \n",
       "220  📢 Announcement\\n@ton_wifhat 🤝 @TonMonkeys\\n\\nW...   \n",
       "221  In the future, any project can airdrop assets ...   \n",
       "222  Thanks to the team at Original Creative Agency...   \n",
       "223  🌟 #BitMart X #ONI #Airdrop 🌟\\n\\n1⃣Follow @BitM...   \n",
       "224  Thanks to the team at Original Creative Agency...   \n",
       "\n",
       "                                                author  \\\n",
       "0    User(id=1454671970956500993, username=LeoStudi...   \n",
       "1    User(id=825183199198212096, username=BTW0205, ...   \n",
       "2    User(id=1224360235709550594, username=Leoninwe...   \n",
       "3    User(id=1454671970956500993, username=LeoStudi...   \n",
       "4    User(id=1534565964691427334, username=gwinthel...   \n",
       "..                                                 ...   \n",
       "220  User(id=1392060763464822787, username=genji_cr...   \n",
       "221  User(id=1730086212537655296, username=orcmarke...   \n",
       "222  User(id=1761173240918016000, username=broccoli...   \n",
       "223  User(id=937166242208763904, username=BitMartEx...   \n",
       "224  User(id=1645544890883776512, username=Gogonaut...   \n",
       "\n",
       "                                           media  \\\n",
       "0                                             []   \n",
       "1    [Media(id=1779812326692327424, type=photo)]   \n",
       "2                                             []   \n",
       "3    [Media(id=1779100972326801408, type=photo)]   \n",
       "4    [Media(id=1779744294120923136, type=photo)]   \n",
       "..                                           ...   \n",
       "220  [Media(id=1779195044190162944, type=photo)]   \n",
       "221                                           []   \n",
       "222  [Media(id=1779304890453606400, type=photo)]   \n",
       "223  [Media(id=1776364358987116544, type=photo)]   \n",
       "224  [Media(id=1779304890453606400, type=photo)]   \n",
       "\n",
       "                                                   url  \\\n",
       "0    https://twitter.com/LeoStudio_LS/status/177981...   \n",
       "1    https://twitter.com/BTW0205/status/17798123985...   \n",
       "2    https://twitter.com/Leoninweb3/status/17798109...   \n",
       "3    https://twitter.com/LeoStudio_LS/status/177980...   \n",
       "4    https://twitter.com/gwinthel/status/1779802593...   \n",
       "..                                                 ...   \n",
       "220  https://twitter.com/genji_cryptoman/status/177...   \n",
       "221  https://twitter.com/orcmarket/status/177932214...   \n",
       "222  https://twitter.com/broccoli_pd/status/1779317...   \n",
       "223  https://twitter.com/BitMartExchange/status/177...   \n",
       "224  https://twitter.com/Gogonauts/status/177930535...   \n",
       "\n",
       "                   created_on   ca      other  \n",
       "0   2024-04-15 10:10:51+00:00  NaN         WL  \n",
       "1   2024-04-15 10:01:57+00:00  NaN         WL  \n",
       "2   2024-04-15 09:56:17+00:00  NaN    airdrop  \n",
       "3   2024-04-15 09:35:20+00:00  NaN         WL  \n",
       "4   2024-04-15 09:23:00+00:00  NaN    airdrop  \n",
       "..                        ...  ...        ...  \n",
       "220 2024-04-14 01:35:50+00:00  NaN  whitelist  \n",
       "221 2024-04-14 01:33:51+00:00  NaN    airdrop  \n",
       "222 2024-04-14 01:16:43+00:00  NaN    airdrop  \n",
       "223 2024-04-14 00:31:32+00:00  NaN    Airdrop  \n",
       "224 2024-04-14 00:27:09+00:00  NaN    airdrop  \n",
       "\n",
       "[225 rows x 9 columns]"
      ]
     },
     "execution_count": 15,
     "metadata": {},
     "output_type": "execute_result"
    }
   ],
   "source": [
    "all_dfs3.reset_index()"
   ]
  },
  {
   "cell_type": "code",
   "execution_count": 16,
   "id": "5a1f9e41",
   "metadata": {},
   "outputs": [],
   "source": [
    "all_dfs3[['url','created_on','ca','other','text']].to_csv('ca.csv')"
   ]
  },
  {
   "cell_type": "code",
   "execution_count": 34,
   "id": "ceb35aa6",
   "metadata": {},
   "outputs": [
    {
     "name": "stderr",
     "output_type": "stream",
     "text": [
      "/var/folders/dm/h6ld_rrn2js8_khbw9pstjh80000gn/T/ipykernel_75570/3512486288.py:7: FutureWarning: Series.__getitem__ treating keys as positions is deprecated. In a future version, integer keys will always be treated as labels (consistent with DataFrame behavior). To access a value by position, use `ser.iloc[pos]`\n",
      "  \"text\": row[1],\n",
      "/var/folders/dm/h6ld_rrn2js8_khbw9pstjh80000gn/T/ipykernel_75570/3512486288.py:8: FutureWarning: Series.__getitem__ treating keys as positions is deprecated. In a future version, integer keys will always be treated as labels (consistent with DataFrame behavior). To access a value by position, use `ser.iloc[pos]`\n",
      "  \"address\": row[6],\n",
      "/var/folders/dm/h6ld_rrn2js8_khbw9pstjh80000gn/T/ipykernel_75570/3512486288.py:10: FutureWarning: Series.__getitem__ treating keys as positions is deprecated. In a future version, integer keys will always be treated as labels (consistent with DataFrame behavior). To access a value by position, use `ser.iloc[pos]`\n",
      "  \"url\": row[4],\n",
      "/var/folders/dm/h6ld_rrn2js8_khbw9pstjh80000gn/T/ipykernel_75570/3512486288.py:11: FutureWarning: Series.__getitem__ treating keys as positions is deprecated. In a future version, integer keys will always be treated as labels (consistent with DataFrame behavior). To access a value by position, use `ser.iloc[pos]`\n",
      "  \"tags\": row[7],\n"
     ]
    },
    {
     "ename": "RuntimeError",
     "evalue": "asyncio.run() cannot be called from a running event loop",
     "output_type": "error",
     "traceback": [
      "\u001b[0;31m---------------------------------------------------------------------------\u001b[0m",
      "\u001b[0;31mTypeError\u001b[0m                                 Traceback (most recent call last)",
      "Cell \u001b[0;32mIn[34], line 3\u001b[0m\n\u001b[1;32m      2\u001b[0m \u001b[38;5;28;01mfor\u001b[39;00m index,row \u001b[38;5;129;01min\u001b[39;00m all_dfs3\u001b[38;5;241m.\u001b[39mhead(\u001b[38;5;241m10\u001b[39m)\u001b[38;5;241m.\u001b[39miterrows():\n\u001b[0;32m----> 3\u001b[0m     sender\u001b[38;5;241m.\u001b[39mpush(json\u001b[38;5;241m.\u001b[39mdumps(\u001b[38;5;124m'\u001b[39m\u001b[38;5;124mtgmsg\u001b[39m\u001b[38;5;124m'\u001b[39m, {\n\u001b[1;32m      4\u001b[0m         \u001b[38;5;124m\"\u001b[39m\u001b[38;5;124mtype\u001b[39m\u001b[38;5;124m\"\u001b[39m: \u001b[38;5;124m\"\u001b[39m\u001b[38;5;124mnew_tweet\u001b[39m\u001b[38;5;124m\"\u001b[39m,\n\u001b[1;32m      5\u001b[0m         \u001b[38;5;124m\"\u001b[39m\u001b[38;5;124mfrom_account\u001b[39m\u001b[38;5;124m\"\u001b[39m: \u001b[38;5;124m'\u001b[39m\u001b[38;5;124m111\u001b[39m\u001b[38;5;124m'\u001b[39m,\n\u001b[1;32m      6\u001b[0m         \u001b[38;5;124m\"\u001b[39m\u001b[38;5;124mtweet\u001b[39m\u001b[38;5;124m\"\u001b[39m: {\n\u001b[1;32m      7\u001b[0m             \u001b[38;5;124m\"\u001b[39m\u001b[38;5;124mtext\u001b[39m\u001b[38;5;124m\"\u001b[39m: row[\u001b[38;5;241m1\u001b[39m],\n\u001b[1;32m      8\u001b[0m             \u001b[38;5;124m\"\u001b[39m\u001b[38;5;124maddress\u001b[39m\u001b[38;5;124m\"\u001b[39m: row[\u001b[38;5;241m6\u001b[39m],\n\u001b[1;32m      9\u001b[0m             \u001b[38;5;124m\"\u001b[39m\u001b[38;5;124mtg\u001b[39m\u001b[38;5;124m\"\u001b[39m: \u001b[38;5;124m\"\u001b[39m\u001b[38;5;124m\"\u001b[39m,\n\u001b[1;32m     10\u001b[0m             \u001b[38;5;124m\"\u001b[39m\u001b[38;5;124murl\u001b[39m\u001b[38;5;124m\"\u001b[39m: row[\u001b[38;5;241m4\u001b[39m],\n\u001b[1;32m     11\u001b[0m             \u001b[38;5;124m\"\u001b[39m\u001b[38;5;124mtags\u001b[39m\u001b[38;5;124m\"\u001b[39m: row[\u001b[38;5;241m7\u001b[39m],\n\u001b[1;32m     12\u001b[0m         }\n\u001b[1;32m     13\u001b[0m     }))\n\u001b[1;32m     14\u001b[0m sender\u001b[38;5;241m.\u001b[39msend()\n",
      "\u001b[0;31mTypeError\u001b[0m: dumps() takes 1 positional argument but 2 were given",
      "\nDuring handling of the above exception, another exception occurred:\n",
      "\u001b[0;31mRuntimeError\u001b[0m                              Traceback (most recent call last)",
      "Cell \u001b[0;32mIn[34], line 1\u001b[0m\n\u001b[0;32m----> 1\u001b[0m \u001b[38;5;28;01mwith\u001b[39;00m open_msg_sender() \u001b[38;5;28;01mas\u001b[39;00m sender:\n\u001b[1;32m      2\u001b[0m     \u001b[38;5;28;01mfor\u001b[39;00m index,row \u001b[38;5;129;01min\u001b[39;00m all_dfs3\u001b[38;5;241m.\u001b[39mhead(\u001b[38;5;241m10\u001b[39m)\u001b[38;5;241m.\u001b[39miterrows():\n\u001b[1;32m      3\u001b[0m         sender\u001b[38;5;241m.\u001b[39mpush(json\u001b[38;5;241m.\u001b[39mdumps(\u001b[38;5;124m'\u001b[39m\u001b[38;5;124mtgmsg\u001b[39m\u001b[38;5;124m'\u001b[39m, {\n\u001b[1;32m      4\u001b[0m             \u001b[38;5;124m\"\u001b[39m\u001b[38;5;124mtype\u001b[39m\u001b[38;5;124m\"\u001b[39m: \u001b[38;5;124m\"\u001b[39m\u001b[38;5;124mnew_tweet\u001b[39m\u001b[38;5;124m\"\u001b[39m,\n\u001b[1;32m      5\u001b[0m             \u001b[38;5;124m\"\u001b[39m\u001b[38;5;124mfrom_account\u001b[39m\u001b[38;5;124m\"\u001b[39m: \u001b[38;5;124m'\u001b[39m\u001b[38;5;124m111\u001b[39m\u001b[38;5;124m'\u001b[39m,\n\u001b[0;32m   (...)\u001b[0m\n\u001b[1;32m     12\u001b[0m             }\n\u001b[1;32m     13\u001b[0m         }))\n",
      "File \u001b[0;32m~/Desktop/work/tw-hive/nats_client.py:32\u001b[0m, in \u001b[0;36mMsgSender.__exit__\u001b[0;34m(self, exc_type, exc_val, exc_tb)\u001b[0m\n\u001b[1;32m     30\u001b[0m \u001b[38;5;28;01mdef\u001b[39;00m \u001b[38;5;21m__exit__\u001b[39m(\u001b[38;5;28mself\u001b[39m, exc_type, exc_val, exc_tb):\n\u001b[1;32m     31\u001b[0m     \u001b[38;5;28;01mif\u001b[39;00m (\u001b[38;5;28mself\u001b[39m\u001b[38;5;241m.\u001b[39mstatus \u001b[38;5;241m==\u001b[39m \u001b[38;5;241m0\u001b[39m):\n\u001b[0;32m---> 32\u001b[0m         \u001b[38;5;28mself\u001b[39m\u001b[38;5;241m.\u001b[39msend()\n",
      "File \u001b[0;32m~/Desktop/work/tw-hive/nats_client.py:44\u001b[0m, in \u001b[0;36mMsgSender.send\u001b[0;34m(self)\u001b[0m\n\u001b[1;32m     42\u001b[0m     \u001b[38;5;28;01mawait\u001b[39;00m \u001b[38;5;28mself\u001b[39m\u001b[38;5;241m.\u001b[39mnc\u001b[38;5;241m.\u001b[39mdrain()\n\u001b[1;32m     43\u001b[0m     \u001b[38;5;28;01mawait\u001b[39;00m \u001b[38;5;28mself\u001b[39m\u001b[38;5;241m.\u001b[39mnc\u001b[38;5;241m.\u001b[39mclose()\n\u001b[0;32m---> 44\u001b[0m asyncio\u001b[38;5;241m.\u001b[39mrun(send_async())\n\u001b[1;32m     45\u001b[0m \u001b[38;5;28mself\u001b[39m\u001b[38;5;241m.\u001b[39mstatus \u001b[38;5;241m=\u001b[39m \u001b[38;5;241m1\u001b[39m\n",
      "File \u001b[0;32m~/anaconda3/lib/python3.11/asyncio/runners.py:186\u001b[0m, in \u001b[0;36mrun\u001b[0;34m(main, debug)\u001b[0m\n\u001b[1;32m    161\u001b[0m \u001b[38;5;250m\u001b[39m\u001b[38;5;124;03m\"\"\"Execute the coroutine and return the result.\u001b[39;00m\n\u001b[1;32m    162\u001b[0m \n\u001b[1;32m    163\u001b[0m \u001b[38;5;124;03mThis function runs the passed coroutine, taking care of\u001b[39;00m\n\u001b[0;32m   (...)\u001b[0m\n\u001b[1;32m    182\u001b[0m \u001b[38;5;124;03m    asyncio.run(main())\u001b[39;00m\n\u001b[1;32m    183\u001b[0m \u001b[38;5;124;03m\"\"\"\u001b[39;00m\n\u001b[1;32m    184\u001b[0m \u001b[38;5;28;01mif\u001b[39;00m events\u001b[38;5;241m.\u001b[39m_get_running_loop() \u001b[38;5;129;01mis\u001b[39;00m \u001b[38;5;129;01mnot\u001b[39;00m \u001b[38;5;28;01mNone\u001b[39;00m:\n\u001b[1;32m    185\u001b[0m     \u001b[38;5;66;03m# fail fast with short traceback\u001b[39;00m\n\u001b[0;32m--> 186\u001b[0m     \u001b[38;5;28;01mraise\u001b[39;00m \u001b[38;5;167;01mRuntimeError\u001b[39;00m(\n\u001b[1;32m    187\u001b[0m         \u001b[38;5;124m\"\u001b[39m\u001b[38;5;124masyncio.run() cannot be called from a running event loop\u001b[39m\u001b[38;5;124m\"\u001b[39m)\n\u001b[1;32m    189\u001b[0m \u001b[38;5;28;01mwith\u001b[39;00m Runner(debug\u001b[38;5;241m=\u001b[39mdebug) \u001b[38;5;28;01mas\u001b[39;00m runner:\n\u001b[1;32m    190\u001b[0m     \u001b[38;5;28;01mreturn\u001b[39;00m runner\u001b[38;5;241m.\u001b[39mrun(main)\n",
      "\u001b[0;31mRuntimeError\u001b[0m: asyncio.run() cannot be called from a running event loop"
     ]
    }
   ],
   "source": [
    "with open_msg_sender() as sender:\n",
    "    for index,row in all_dfs3.head(10).iterrows():\n",
    "        sender.push('tgmsg',json.dumps({\n",
    "            \"type\": \"new_tweet\",\n",
    "            \"from_account\": '111',\n",
    "            \"tweet\": {\n",
    "                \"text\": row[1],\n",
    "                \"address\": row[6],\n",
    "                \"tg\": \"\",\n",
    "                \"url\": row[4],\n",
    "                \"tags\": row[7],\n",
    "            }\n",
    "        }))\n",
    "    sender.send()"
   ]
  },
  {
   "cell_type": "code",
   "execution_count": null,
   "id": "2c8cc4b0",
   "metadata": {},
   "outputs": [],
   "source": []
  }
 ],
 "metadata": {
  "kernelspec": {
   "display_name": "Python 3 (ipykernel)",
   "language": "python",
   "name": "python3"
  },
  "language_info": {
   "codemirror_mode": {
    "name": "ipython",
    "version": 3
   },
   "file_extension": ".py",
   "mimetype": "text/x-python",
   "name": "python",
   "nbconvert_exporter": "python",
   "pygments_lexer": "ipython3",
   "version": "3.11.5"
  }
 },
 "nbformat": 4,
 "nbformat_minor": 5
}
